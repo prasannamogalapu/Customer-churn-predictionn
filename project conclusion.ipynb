{
 "cells": [
  {
   "cell_type": "markdown",
   "id": "60540561",
   "metadata": {},
   "source": [
    "The project focuses on analyzing customer churn, generating churn risk scores, identifying churn-flagged customers, and prioritizing those for targeted retention campaigns. Based on the performance of multiple machine learning algorithms, we have selected the most effective algorithms for each of these four key goals, ensuring the best results aligned with the business objectives."
   ]
  },
  {
   "cell_type": "markdown",
   "id": "ee4cff86",
   "metadata": {},
   "source": [
    "# Model Selection:"
   ]
  },
  {
   "cell_type": "markdown",
   "id": "4516de3b",
   "metadata": {},
   "source": [
    "From the above model results, the following models stand out:"
   ]
  },
  {
   "cell_type": "markdown",
   "id": "2bc07e88",
   "metadata": {},
   "source": [
    "1.Best Model for Accuracy: Artificial Neural Networks(ANN) with the highest accuracy of 0.891\n",
    "2.Best Model for Recall: LIghtGBM, which makes it excellent for identifying customers likely to churn,though at the cost of many false positives, it needs tuning for precision\n",
    "3.Best Model for Balance Between Precision and Recall: Support Vector Machine (SVM) with accuracy of 0.890,precision of 0.582,recall of 0.700 and ROC AUC of 0.898"
   ]
  },
  {
   "cell_type": "markdown",
   "id": "e63dfe3e",
   "metadata": {},
   "source": [
    "## GOAL 1: Understandng the Variables Influencing Customers Migration"
   ]
  },
  {
   "cell_type": "markdown",
   "id": "d5837ead",
   "metadata": {},
   "source": [
    "### Chosen Algorithm: Logistic Regression"
   ]
  },
  {
   "cell_type": "markdown",
   "id": "79afd7aa",
   "metadata": {},
   "source": [
    "Logistic Regression was chosen over SVM for its interpretablity and ability to handle a mix of categorical and numerical variables, making it the best fit for understanding the key drivers of customer churn."
   ]
  },
  {
   "cell_type": "code",
   "execution_count": 3,
   "id": "baaabec8",
   "metadata": {
    "collapsed": true
   },
   "outputs": [
    {
     "ename": "NameError",
     "evalue": "name 'LR' is not defined",
     "output_type": "error",
     "traceback": [
      "\u001b[1;31m---------------------------------------------------------------------------\u001b[0m",
      "\u001b[1;31mNameError\u001b[0m                                 Traceback (most recent call last)",
      "Cell \u001b[1;32mIn[3], line 4\u001b[0m\n\u001b[0;32m      1\u001b[0m \u001b[38;5;28;01mfrom\u001b[39;00m \u001b[38;5;21;01msklearn\u001b[39;00m\u001b[38;5;21;01m.\u001b[39;00m\u001b[38;5;21;01minspection\u001b[39;00m \u001b[38;5;28;01mimport\u001b[39;00m permutation_importance\n\u001b[0;32m      3\u001b[0m \u001b[38;5;66;03m# Calculate permutation importance\u001b[39;00m\n\u001b[1;32m----> 4\u001b[0m perm_importance \u001b[38;5;241m=\u001b[39m permutation_importance(LR, x_test_scaled, y_test, scoring\u001b[38;5;241m=\u001b[39m\u001b[38;5;124m'\u001b[39m\u001b[38;5;124mroc_auc\u001b[39m\u001b[38;5;124m'\u001b[39m)\n\u001b[0;32m      6\u001b[0m \u001b[38;5;66;03m# Create a DataFrame for visualization\u001b[39;00m\n\u001b[0;32m      7\u001b[0m importance_df \u001b[38;5;241m=\u001b[39m pd\u001b[38;5;241m.\u001b[39mDataFrame({\n\u001b[0;32m      8\u001b[0m     \u001b[38;5;124m'\u001b[39m\u001b[38;5;124mFeature\u001b[39m\u001b[38;5;124m'\u001b[39m: x_test_scaled\u001b[38;5;241m.\u001b[39mcolumns,\n\u001b[0;32m      9\u001b[0m     \u001b[38;5;124m'\u001b[39m\u001b[38;5;124mImportance\u001b[39m\u001b[38;5;124m'\u001b[39m: perm_importance\u001b[38;5;241m.\u001b[39mimportances_mean\n\u001b[0;32m     10\u001b[0m })\u001b[38;5;241m.\u001b[39msort_values(by\u001b[38;5;241m=\u001b[39m\u001b[38;5;124m'\u001b[39m\u001b[38;5;124mImportance\u001b[39m\u001b[38;5;124m'\u001b[39m, ascending\u001b[38;5;241m=\u001b[39m\u001b[38;5;28;01mFalse\u001b[39;00m)\n",
      "\u001b[1;31mNameError\u001b[0m: name 'LR' is not defined"
     ]
    }
   ],
   "source": [
    "from sklearn.inspection import permutation_importance\n",
    "\n",
    "# Calculate permutation importance\n",
    "perm_importance = permutation_importance(LR, x_test_scaled, y_test, scoring='roc_auc')\n",
    "\n",
    "# Create a DataFrame for visualization\n",
    "importance_df = pd.DataFrame({\n",
    "    'Feature': x_test_scaled.columns,\n",
    "    'Importance': perm_importance.importances_mean\n",
    "}).sort_values(by='Importance', ascending=False)\n",
    "\n",
    "# Display top features\n",
    "print(\"Top Influencing Variables:\")\n",
    "print(importance_df.head(10))\n",
    "\n",
    "# Plot the feature importance\n",
    "plt.figure(figsize=(10, 6))\n",
    "plt.barh(importance_df['Feature'].head(10), importance_df['Importance'].head(10))\n",
    "plt.gca().invert_yaxis()\n",
    "plt.title(\"Top Variables Influencing Churn\")\n",
    "plt.xlabel(\"Importance\")\n",
    "plt.ylabel(\"Feature\")\n",
    "plt.show()"
   ]
  },
  {
   "cell_type": "markdown",
   "id": "7f7012ff",
   "metadata": {},
   "source": [
    "## GOAL 2 : Creating Churn Risk Scores¶"
   ]
  },
  {
   "cell_type": "code",
   "execution_count": null,
   "id": "fd363288",
   "metadata": {},
   "outputs": [],
   "source": [
    "Chosen Algorithm : Support Vector Machines(SVM)"
   ]
  },
  {
   "cell_type": "markdown",
   "id": "4eb94e47",
   "metadata": {},
   "source": [
    "SVM delivered the highest ROC AUC score(0.89), ensuring reliable separation of churners and non-churners"
   ]
  },
  {
   "cell_type": "code",
   "execution_count": 4,
   "id": "7be4b82e",
   "metadata": {
    "collapsed": true
   },
   "outputs": [
    {
     "ename": "NameError",
     "evalue": "name 'sv' is not defined",
     "output_type": "error",
     "traceback": [
      "\u001b[1;31m---------------------------------------------------------------------------\u001b[0m",
      "\u001b[1;31mNameError\u001b[0m                                 Traceback (most recent call last)",
      "Cell \u001b[1;32mIn[4], line 2\u001b[0m\n\u001b[0;32m      1\u001b[0m \u001b[38;5;66;03m# Predict churn probabilities\u001b[39;00m\n\u001b[1;32m----> 2\u001b[0m y_pred_prob \u001b[38;5;241m=\u001b[39m sv\u001b[38;5;241m.\u001b[39mpredict_proba(x_test_scaled)[:,\u001b[38;5;241m1\u001b[39m]  \u001b[38;5;66;03m# Probability for churn (Class 1)\u001b[39;00m\n\u001b[0;32m      4\u001b[0m \u001b[38;5;66;03m# Save churn risk scores\u001b[39;00m\n\u001b[0;32m      5\u001b[0m churn_risk_df \u001b[38;5;241m=\u001b[39m pd\u001b[38;5;241m.\u001b[39mDataFrame({\n\u001b[0;32m      6\u001b[0m     \u001b[38;5;124m'\u001b[39m\u001b[38;5;124mChurn_Risk_Score\u001b[39m\u001b[38;5;124m'\u001b[39m: SV_y_pred_prob\n\u001b[0;32m      7\u001b[0m })\n",
      "\u001b[1;31mNameError\u001b[0m: name 'sv' is not defined"
     ]
    }
   ],
   "source": [
    "# Predict churn probabilities\n",
    "y_pred_prob = sv.predict_proba(x_test_scaled)[:,1]  # Probability for churn (Class 1)\n",
    "\n",
    "# Save churn risk scores\n",
    "churn_risk_df = pd.DataFrame({\n",
    "    'Churn_Risk_Score': SV_y_pred_prob\n",
    "})\n",
    "print(\"Churn Risk Scores Generated\")\n",
    "churn_risk_df"
   ]
  },
  {
   "cell_type": "markdown",
   "id": "ec209506",
   "metadata": {},
   "source": [
    "## GOAL 3: Introducing \"CHURN-FLAG\" Variable"
   ]
  },
  {
   "cell_type": "markdown",
   "id": "a6222fc1",
   "metadata": {},
   "source": [
    "Choosen Algorithm : LightGBM"
   ]
  },
  {
   "cell_type": "markdown",
   "id": "5e53320f",
   "metadata": {},
   "source": [
    "LightGBM achieved the highest recall (0.936), ensuring that most churners were correctly flagged. While there were some misclassified cases, LightGBM accurately identified 147 out of 157 churners, making it the most effective model for minimizing missed churners."
   ]
  },
  {
   "cell_type": "code",
   "execution_count": null,
   "id": "812910db",
   "metadata": {},
   "outputs": [],
   "source": [
    "# Create churn flag\n",
    "churn_risk_df['Churn_Flag'] = (lgb_y_pred_prob > 0.5).astype(int)\n",
    "\n",
    "# Save results with churn flag\n",
    "print(\"Churn Risk Scores with Churn Flags:\")\n",
    "print(churn_risk_df.head())\n",
    "\n",
    "# Save to CSV\n",
    "churn_risk_df.to_csv('churn_risk_scores_with_flags.csv', index=False)"
   ]
  },
  {
   "cell_type": "markdown",
   "id": "6ef6ed39",
   "metadata": {},
   "source": [
    "## GOAL 4: help to identify possible CHURN-FLAG YES customers and provide more attention in customer touch point areas, including customer care support, request fulfilment, auto categorizing tickets as high priority for quick resolutions any questions they may have etc.\n"
   ]
  },
  {
   "cell_type": "markdown",
   "id": "f7667181",
   "metadata": {},
   "source": [
    "### 1. Predicting Churn Flagged Customers¶"
   ]
  },
  {
   "cell_type": "markdown",
   "id": "b55a5730",
   "metadata": {},
   "source": [
    " . Chosen Algorithm : LightGBM"
   ]
  },
  {
   "cell_type": "markdown",
   "id": "06555fa4",
   "metadata": {},
   "source": [
    "LightGBM was retained for this goal as its high recall aligns with the business objective of prioritizing churners. The model demonstrated strong performance by correctly flagging a significant number of churners while balancing acceptable misclassifications."
   ]
  },
  {
   "cell_type": "code",
   "execution_count": null,
   "id": "32370b21",
   "metadata": {},
   "outputs": [],
   "source": [
    "churn_risk_df['Churn_Flag'] = (lgb_y_pred_prob > 0.5).astype(int)\n",
    "\n",
    "# Filter churn-flagged customers for high priority actions\n",
    "churn_yes_customers = churn_risk_df[churn_risk_df['Churn_Flag'] == 1]\n",
    "\n",
    "# Save flagged customers for further action\n",
    "print(\"High Priority Churn-Flagged Customers:\")\n",
    "print(churn_yes_customers)\n",
    "\n",
    "# Save to CSV for client analysis\n",
    "churn_yes_customers.to_csv('high_priority_customers.csv', index=False)"
   ]
  },
  {
   "cell_type": "code",
   "execution_count": null,
   "id": "c2053d75",
   "metadata": {},
   "outputs": [],
   "source": [
    "print(churn_yes_customers.columns)"
   ]
  },
  {
   "cell_type": "markdown",
   "id": "511a4bd4",
   "metadata": {},
   "source": [
    "## 2. Customer Segmentation\n",
    "Churn-flagged customers were segmented into:\n",
    "\n",
    "High Priority: Customers with multiple unresolved tickets or frequent complaints.\n",
    "\n",
    "Medium Priority: Customers with moderate engagement issues.\n",
    "\n",
    "Low Priority: Customers with minor concerns."
   ]
  },
  {
   "cell_type": "code",
   "execution_count": null,
   "id": "69595ae9",
   "metadata": {},
   "outputs": [],
   "source": [
    "# Simple segmentation based on churn risk score\n",
    "churn_yes_customers['Priority_Level'] = churn_yes_customers['Churn_Risk_Score'].apply(lambda x: \n",
    "    'High' if x >= 0.8 else \n",
    "    'Medium' if 0.5 <= x < 0.8 else \n",
    "    'Low')\n",
    "\n",
    "# View segmentation\n",
    "print(churn_yes_customers[['Churn_Risk_Score', 'Priority_Level']].head())\n",
    "\n",
    "# Save segmented data\n",
    "churn_yes_customers.to_csv('segmented_churn_customers.csv', index=False)"
   ]
  },
  {
   "cell_type": "markdown",
   "id": "2dc7740c",
   "metadata": {},
   "source": [
    "### 3. Automating Ticket Categorization"
   ]
  },
  {
   "cell_type": "markdown",
   "id": "f98c54ef",
   "metadata": {},
   "source": [
    "An automated system was designed to categorize customer tickets into high, normal, and low priorities based on segmentation. This ensures prompt responses to high-priority customers."
   ]
  },
  {
   "cell_type": "code",
   "execution_count": null,
   "id": "ce709d30",
   "metadata": {},
   "outputs": [],
   "source": [
    "# Function to auto-categorize tickets\n",
    "def categorize_ticket(row):\n",
    "    if row['Priority_Level'] == 'High':\n",
    "        return 'High Priority'\n",
    "    elif row['Priority_Level'] == 'Medium':\n",
    "        return 'Normal Priority'\n",
    "    else:\n",
    "        return 'Low Priority'\n",
    "\n",
    "# Apply categorization\n",
    "churn_yes_customers['Ticket_Category'] = churn_yes_customers.apply(categorize_ticket, axis=1)\n",
    "\n",
    "# Save for customer support system integration\n",
    "churn_yes_customers.to_csv('categorized_tickets.csv', index=False)\n",
    "\n",
    "# Display output\n",
    "print(\"Automated Ticket Categories:\")\n",
    "print(churn_yes_customers[['Priority_Level', 'Ticket_Category']].head())"
   ]
  },
  {
   "cell_type": "markdown",
   "id": "ca6b08f2",
   "metadata": {},
   "source": [
    "## 4. Actionable Insights¶"
   ]
  },
  {
   "cell_type": "markdown",
   "id": "f542553d",
   "metadata": {},
   "source": [
    "Insights and Dashboard Preparartion"
   ]
  },
  {
   "cell_type": "code",
   "execution_count": null,
   "id": "a05e2ff0",
   "metadata": {},
   "outputs": [],
   "source": [
    "# Summary statistics for churn analysis\n",
    "priority_summary = churn_yes_customers['Priority_Level'].value_counts()\n",
    "print(\"Priority Distribution:\")\n",
    "print(priority_summary)\n",
    "\n",
    "# Save summary to a CSV\n",
    "priority_summary.to_csv('priority_summary.csv', index=True)"
   ]
  },
  {
   "cell_type": "markdown",
   "id": "ab94a819",
   "metadata": {},
   "source": [
    "# Overall Project Conclusion:"
   ]
  },
  {
   "cell_type": "markdown",
   "id": "99869f38",
   "metadata": {},
   "source": [
    "This project successfully addressed the client’s objectives by leveraging machine learning to predict churn, assign risk scores, and identify at-risk customers. The use of models like Logistic Regression, SVM, and LightGBM provided a balance of interpretability, accuracy, and recall, ensuring actionable insights for churn mitigation. These results equip the client with a data-driven foundation to reduce churn and enhance customer retention effectively."
   ]
  }
 ],
 "metadata": {
  "kernelspec": {
   "display_name": "Python 3 (ipykernel)",
   "language": "python",
   "name": "python3"
  },
  "language_info": {
   "codemirror_mode": {
    "name": "ipython",
    "version": 3
   },
   "file_extension": ".py",
   "mimetype": "text/x-python",
   "name": "python",
   "nbconvert_exporter": "python",
   "pygments_lexer": "ipython3",
   "version": "3.11.5"
  }
 },
 "nbformat": 4,
 "nbformat_minor": 5
}
